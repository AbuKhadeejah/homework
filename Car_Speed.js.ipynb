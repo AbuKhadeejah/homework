{
 "cells": [
  {
   "cell_type": "code",
   "execution_count": 1,
   "metadata": {
    "collapsed": false
   },
   "outputs": [
    {
     "ename": "SyntaxError",
     "evalue": "unknown: Unexpected token (6:8)",
     "output_type": "error",
     "traceback": [
      "SyntaxError: unknown: Unexpected token (6:8)",
      "\u001b[0m \u001b[90m 4 | \u001b[39m        \u001b[36mthis\u001b[39m\u001b[33m.\u001b[39mstart \u001b[33m=\u001b[39m stop\u001b[33m;\u001b[39m",
      " \u001b[90m 5 | \u001b[39m    }",
      "\u001b[31m\u001b[1m>\u001b[22m\u001b[39m\u001b[90m 6 | \u001b[39m    \u001b[36mvar\u001b[39m speed \u001b[33m=\u001b[39m \u001b[36mnew\u001b[39m car(\u001b[32m'car'\u001b[39m\u001b[33m,\u001b[39m \u001b[35m200\u001b[39m)\u001b[33m;\u001b[39m",
      " \u001b[90m   | \u001b[39m        \u001b[31m\u001b[1m^\u001b[22m\u001b[39m",
      " \u001b[90m 7 | \u001b[39m    \u001b[36mvar\u001b[39m gas \u001b[33m=\u001b[39m \u001b[36mnew\u001b[39m engine(\u001b[32m'engine'\u001b[39m\u001b[33m,\u001b[39m \u001b[35m100\u001b[39m)\u001b[33m;\u001b[39m \u001b[90m// prozent\u001b[39m",
      " \u001b[90m 8 | \u001b[39m",
      " \u001b[90m 9 | \u001b[39m     \u001b[33mCar\u001b[39m\u001b[33m.\u001b[39mprototype\u001b[33m.\u001b[39maccellerate \u001b[33m=\u001b[39m \u001b[36mfunction\u001b[39m(speed) {\u001b[0m",
      "    at Parser.pp$5.raise (/usr/local/lib/node_modules/jp-babel/node_modules/babylon/lib/index.js:4452:13)",
      "    at Parser.pp.unexpected (/usr/local/lib/node_modules/jp-babel/node_modules/babylon/lib/index.js:1761:8)",
      "    at Parser.pp$1.parseClassBody (/usr/local/lib/node_modules/jp-babel/node_modules/babylon/lib/index.js:2554:14)",
      "    at Parser.pp$1.parseClass (/usr/local/lib/node_modules/jp-babel/node_modules/babylon/lib/index.js:2406:8)",
      "    at Parser.pp$1.parseStatement (/usr/local/lib/node_modules/jp-babel/node_modules/babylon/lib/index.js:1843:19)",
      "    at Parser.pp$1.parseBlockBody (/usr/local/lib/node_modules/jp-babel/node_modules/babylon/lib/index.js:2268:21)",
      "    at Parser.pp$1.parseTopLevel (/usr/local/lib/node_modules/jp-babel/node_modules/babylon/lib/index.js:1778:8)",
      "    at Parser.parse (/usr/local/lib/node_modules/jp-babel/node_modules/babylon/lib/index.js:1673:17)",
      "    at parse (/usr/local/lib/node_modules/jp-babel/node_modules/babylon/lib/index.js:7180:37)",
      "    at File.parse (/usr/local/lib/node_modules/jp-babel/node_modules/babel-core/lib/transformation/file/index.js:517:15)"
     ]
    }
   ],
   "source": [
    "class Car {\n",
    "    constructor(start, stop) {\n",
    "        this.start = stop;\n",
    "        this.start = stop;\n",
    "    }\n",
    "    var speed = new car('car', 200);\n",
    "    var gas = new engine('engine', 100); // prozent\n",
    "\n",
    "     Car.prototype.accellerate = function(speed) {\n",
    "      this.speed = this.speed += speed\n",
    "     }\n",
    "}\n",
    "\n",
    "class Engine {\n",
    "    constructor(start, stop) {\n",
    "        this.start = start;\n",
    "        this.stop = stop;\n",
    "    }\n",
    "    toString() {\n",
    "        return `(${this.start}, ${this.stop})`;\n",
    "    }\n",
    "}"
   ]
  },
  {
   "cell_type": "code",
   "execution_count": null,
   "metadata": {
    "collapsed": true
   },
   "outputs": [],
   "source": []
  }
 ],
 "metadata": {
  "anaconda-cloud": {},
  "kernelspec": {
   "display_name": "jp-Babel (Node.js)",
   "language": "babel",
   "name": "babel"
  },
  "language_info": {
   "file_extension": ".js",
   "mimetype": "application/javascript",
   "name": "javascript",
   "version": "6.10.3"
  }
 },
 "nbformat": 4,
 "nbformat_minor": 2
}
