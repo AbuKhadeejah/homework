{
 "cells": [
  {
   "cell_type": "code",
   "execution_count": 11,
   "metadata": {
    "collapsed": false
   },
   "outputs": [
    {
     "name": "stdout",
     "output_type": "stream",
     "text": [
      "true\n",
      "true\n",
      "true\n",
      "true\n",
      "true\n",
      "true\n",
      "true\n"
     ]
    }
   ],
   "source": [
    "function CookingTime(eggs) {\n",
    "\tswitch(eggs) {\n",
    "    case eggs === 0:\n",
    "        return 0;\n",
    "        break;\n",
    "    case eggs > 0 && eggs <= 2:\n",
    "        return 5;\n",
    "        break;\n",
    "    default:\n",
    "        if (eggs % 2 === 0) {\n",
    "        \treturn eggs / 2 * 5\n",
    "        } else {\n",
    "        \treturn Math.floor(eggs / 2 + 1) * 5 \n",
    "        }\n",
    "}\n",
    "}\n",
    "\n",
    "// cook time for 0 eggs\n",
    "console.log(cookingTime(0) === 0)\n",
    "// cook time for 2 eggs\n",
    "console.log(cookingTime(2) === 5)\n",
    "// cook time for 5 eggs\n",
    "console.log(cookingTime(5) === 5)\n",
    "// cook time for 8 eggs\n",
    "console.log(cookingTime(8) === 5)\n",
    "// cook time for 15 eggs\n",
    "console.log(cookingTime(15) === 10)\n",
    "// cook time for 16 eggs\n",
    "console.log(cookingTime(16) === 10)\n",
    "// cook time for 20 eggs\n",
    "console.log(cookingTime(20) === 15)"
   ]
  },
  {
   "cell_type": "code",
   "execution_count": 12,
   "metadata": {
    "collapsed": false
   },
   "outputs": [
    {
     "ename": "TypeError",
     "evalue": "Identifier 'Egg' has already been declared",
     "output_type": "error",
     "traceback": [
      "TypeError: Identifier 'Egg' has already been declared",
      "    at evalmachine.<anonymous>:1:-61",
      "    at ContextifyScript.Script.runInThisContext (vm.js:25:33)",
      "    at Object.runInThisContext (vm.js:97:38)",
      "    at run ([eval]:617:19)",
      "    at onRunRequest ([eval]:388:22)",
      "    at onMessage ([eval]:356:17)",
      "    at emitTwo (events.js:106:13)",
      "    at process.emit (events.js:191:7)",
      "    at process.nextTick (internal/child_process.js:753:12)",
      "    at _combinedTickCallback (internal/process/next_tick.js:73:7)"
     ]
    }
   ],
   "source": [
    "class Egg {\n",
    "    constructor() {\n",
    "        this.isCookig = false;\n",
    "        this.level = 0;\n",
    "        this.egg = new Egg();\n",
    "    }\n",
    "    \n",
    "    start() {\n",
    "        this.isCooking = true;\n",
    "        this.egg.start()\n",
    "    }\n",
    "    \n",
    "    stop() {\n",
    "        this.isCooking = false;\n",
    "        this.Egg.stop()\n",
    "        this.level = this.stove.calculateLevel();\n",
    "    }\n",
    "    \n",
    "    percentageCooked(percent) {\n",
    "        this.Egg.setEggCooked(percent);\n",
    "        this.level = this.level.calculateLevel();\n",
    "    }\n",
    "\n",
    "    minutesToCook() {\n",
    "        this.level = this.stove.calculateLevel();\n",
    "    }\n",
    "\n",
    "}"
   ]
  },
  {
   "cell_type": "code",
   "execution_count": 13,
   "metadata": {
    "collapsed": false
   },
   "outputs": [
    {
     "ename": "TypeError",
     "evalue": "Identifier 'Stove' has already been declared",
     "output_type": "error",
     "traceback": [
      "TypeError: Identifier 'Stove' has already been declared",
      "    at evalmachine.<anonymous>:1:-61",
      "    at ContextifyScript.Script.runInThisContext (vm.js:25:33)",
      "    at Object.runInThisContext (vm.js:97:38)",
      "    at run ([eval]:617:19)",
      "    at onRunRequest ([eval]:388:22)",
      "    at onMessage ([eval]:356:17)",
      "    at emitTwo (events.js:106:13)",
      "    at process.emit (events.js:191:7)",
      "    at process.nextTick (internal/child_process.js:753:12)",
      "    at _combinedTickCallback (internal/process/next_tick.js:73:7)"
     ]
    }
   ],
   "source": [
    "class Stove {\n",
    "    constructor() {\n",
    "        this.percentageCooked = 0;\n",
    "        this.isCooking = false;\n",
    "    }\n",
    "    \n",
    "    start() {\n",
    "        this.isCooking = true;\n",
    "        this.percentageCooked = 0;\n",
    "    }\n",
    "    \n",
    "    stop() {\n",
    "        this.isCooking = false;\n",
    "        this.percentageCooked = 0;\n",
    "    }\n",
    "    \n",
    "    setEggCooked(percent) {\n",
    "        this.percentageCooked = percent;\n",
    "    }\n",
    "    \n",
    "    calculateTime() {\n",
    "        return this.percentageCooked * 2;\n",
    "    }\n",
    "    \n",
    "    toString() {\n",
    "        return `Egg is Cooking: ${this.isCooking}, Time is: ${this.gasPercentage})`;\n",
    "    }\n",
    "}"
   ]
  },
  {
   "cell_type": "code",
   "execution_count": 14,
   "metadata": {
    "collapsed": false
   },
   "outputs": [
    {
     "ename": "TypeError",
     "evalue": "Identifier 'Egg' has already been declared",
     "output_type": "error",
     "traceback": [
      "TypeError: Identifier 'Egg' has already been declared",
      "    at evalmachine.<anonymous>:1:-61",
      "    at ContextifyScript.Script.runInThisContext (vm.js:25:33)",
      "    at Object.runInThisContext (vm.js:97:38)",
      "    at run ([eval]:617:19)",
      "    at onRunRequest ([eval]:388:22)",
      "    at onMessage ([eval]:356:17)",
      "    at emitTwo (events.js:106:13)",
      "    at process.emit (events.js:191:7)",
      "    at process.nextTick (internal/child_process.js:753:12)",
      "    at _combinedTickCallback (internal/process/next_tick.js:73:7)"
     ]
    }
   ],
   "source": [
    "var Egg = new Egg();"
   ]
  },
  {
   "cell_type": "code",
   "execution_count": null,
   "metadata": {
    "collapsed": true
   },
   "outputs": [],
   "source": []
  }
 ],
 "metadata": {
  "anaconda-cloud": {},
  "kernelspec": {
   "display_name": "jp-Babel (Node.js)",
   "language": "babel",
   "name": "babel"
  },
  "language_info": {
   "file_extension": ".js",
   "mimetype": "application/javascript",
   "name": "javascript",
   "version": "6.10.3"
  }
 },
 "nbformat": 4,
 "nbformat_minor": 2
}
