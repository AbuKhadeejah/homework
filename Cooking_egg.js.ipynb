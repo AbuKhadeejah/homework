{
 "cells": [
  {
   "cell_type": "markdown",
   "metadata": {},
   "source": [
    "class Egg {\n",
    "    constructor() {\n",
    "        this.isCookig = false;\n",
    "        this.level = 0;\n",
    "        this.egg = new Egg();\n",
    "    }\n",
    "    \n",
    "    start() {\n",
    "        this.isCooking = true;\n",
    "        this.egg.start();\n",
    "    }\n",
    "    \n",
    "    stop() {\n",
    "        this.isCooking = false;\n",
    "        this.Egg.stop();\n",
    "        this.level = this.stove.calculateLevel();\n",
    "    }\n",
    "    \n",
    "    percentageCooked(percent) {\n",
    "        this.Egg.setEggCooked(percent);\n",
    "        this.level = this.level.calculateLevel();\n",
    "    }\n",
    "\n",
    "    minutesToCook() {\n",
    "        this.level = this.stove.calculateLevel();\n",
    "    }\n",
    "\n",
    "}"
   ]
  },
  {
   "cell_type": "markdown",
   "metadata": {},
   "source": [
    "class Stove {\n",
    "    constructor() {\n",
    "        this.percentageCooked = 0;\n",
    "        this.isCooking = false;\n",
    "    }\n",
    "    \n",
    "    start() {\n",
    "        this.isCooking = true;\n",
    "        this.percentageCooked = 0;\n",
    "    }\n",
    "    \n",
    "    stop() {\n",
    "        this.isCooking = false;\n",
    "        this.percentageCooked = 0;\n",
    "    }\n",
    "    \n",
    "    setEggCooked(percent) {\n",
    "        this.percentageCooked = percent;\n",
    "    }\n",
    "    \n",
    "    calculateTime() {\n",
    "        return this.percentageCooked * 2;\n",
    "    }\n",
    "    \n",
    "    toString() {\n",
    "        return `Egg is Cooking: ${this.isCooking}, Time is: ${this.gasPercentage})`;\n",
    "    }\n",
    "}"
   ]
  },
  {
   "cell_type": "markdown",
   "metadata": {},
   "source": [
    "var Egg = new Egg();"
   ]
  },
  {
   "cell_type": "code",
   "execution_count": 25,
   "metadata": {
    "collapsed": false
   },
   "outputs": [
    {
     "ename": "TypeError",
     "evalue": "Identifier 'Person' has already been declared",
     "output_type": "error",
     "traceback": [
      "TypeError: Identifier 'Person' has already been declared",
      "    at evalmachine.<anonymous>:1:-61",
      "    at ContextifyScript.Script.runInThisContext (vm.js:25:33)",
      "    at Object.runInThisContext (vm.js:97:38)",
      "    at run ([eval]:617:19)",
      "    at onRunRequest ([eval]:388:22)",
      "    at onMessage ([eval]:356:17)",
      "    at emitTwo (events.js:106:13)",
      "    at process.emit (events.js:191:7)",
      "    at process.nextTick (internal/child_process.js:753:12)",
      "    at _combinedTickCallback (internal/process/next_tick.js:73:7)"
     ]
    }
   ],
   "source": [
    "\"use strict\";\n",
    "\n",
    "class Person{\n",
    "    constructor (name, age, country){\n",
    "        this.name = name;\n",
    "        this.age= age;\n",
    "        this.country = country;\n",
    "        //console.log(this.name, this.age, this.country);\n",
    "    }\n",
    "    \n",
    "    get age(){\n",
    "        return this.age;\n",
    "    }\n",
    "}\n",
    "\n",
    "var person = new Person(\"Abdullah\", 1, \"Malaysia\");\n",
    "\n",
    "console.log(person.age);"
   ]
  },
  {
   "cell_type": "code",
   "execution_count": 27,
   "metadata": {
    "collapsed": false
   },
   "outputs": [
    {
     "ename": "TypeError",
     "evalue": "Identifier 'Hello' has already been declared",
     "output_type": "error",
     "traceback": [
      "TypeError: Identifier 'Hello' has already been declared",
      "    at evalmachine.<anonymous>:1:-61",
      "    at ContextifyScript.Script.runInThisContext (vm.js:25:33)",
      "    at Object.runInThisContext (vm.js:97:38)",
      "    at run ([eval]:617:19)",
      "    at onRunRequest ([eval]:388:22)",
      "    at onMessage ([eval]:356:17)",
      "    at emitTwo (events.js:106:13)",
      "    at process.emit (events.js:191:7)",
      "    at process.nextTick (internal/child_process.js:753:12)",
      "    at _combinedTickCallback (internal/process/next_tick.js:73:7)"
     ]
    }
   ],
   "source": [
    "class Hello{\n",
    "    constructor (first, second){\n",
    "        this.first = first;\n",
    "        this.second= second;   \n",
    "    }\n",
    "    \n",
    "    get total(){\n",
    "        return this.first + this.second;\n",
    "    }\n",
    "}\n",
    "\n",
    "var hello = new Hello(7, 9);\n",
    "\n",
    "console.log(hello.total);"
   ]
  }
 ],
 "metadata": {
  "anaconda-cloud": {},
  "kernelspec": {
   "display_name": "jp-Babel (Node.js)",
   "language": "babel",
   "name": "babel"
  },
  "language_info": {
   "file_extension": ".js",
   "mimetype": "application/javascript",
   "name": "javascript",
   "version": "6.10.3"
  }
 },
 "nbformat": 4,
 "nbformat_minor": 2
}
