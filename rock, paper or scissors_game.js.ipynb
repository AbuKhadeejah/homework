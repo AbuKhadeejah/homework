{
 "cells": [
  {
   "cell_type": "code",
   "execution_count": 1,
   "metadata": {
    "collapsed": false
   },
   "outputs": [
    {
     "ename": "ReferenceError",
     "evalue": "prompt is not defined",
     "output_type": "error",
     "traceback": [
      "ReferenceError: prompt is not defined",
      "    at evalmachine.<anonymous>:1:-44",
      "    at ContextifyScript.Script.runInThisContext (vm.js:25:33)",
      "    at Object.runInThisContext (vm.js:97:38)",
      "    at run ([eval]:617:19)",
      "    at onRunRequest ([eval]:388:22)",
      "    at onMessage ([eval]:356:17)",
      "    at emitTwo (events.js:106:13)",
      "    at process.emit (events.js:191:7)",
      "    at process.nextTick (internal/child_process.js:753:12)",
      "    at _combinedTickCallback (internal/process/next_tick.js:73:7)"
     ]
    }
   ],
   "source": [
    "var userChoice = prompt(\"Do you choose rock, paper or scissors?\");"
   ]
  },
  {
   "cell_type": "code",
   "execution_count": 2,
   "metadata": {
    "collapsed": false
   },
   "outputs": [
    {
     "name": "stdout",
     "output_type": "stream",
     "text": [
      "0.687473127470156\n"
     ]
    }
   ],
   "source": [
    "var computerChoice = Math.random();\n",
    "console.log(computerChoice);"
   ]
  },
  {
   "cell_type": "code",
   "execution_count": 5,
   "metadata": {
    "collapsed": false
   },
   "outputs": [
    {
     "name": "stdout",
     "output_type": "stream",
     "text": [
      "Computer: 0.687473127470156\n"
     ]
    }
   ],
   "source": [
    "var game = function(rock,paper,scissors){\n",
    "    if (computerChoice > 0 && computerChoice <= 0.33) {\n",
    "        return \"rock\";\n",
    "        }\n",
    "\n",
    "    else if (computerChoice >= 0.34 && computerChoice <= 0.66){\n",
    "        return \"paper\";\n",
    "        }\n",
    "\n",
    "    else {\n",
    "        return \"scissors\";\n",
    "        }\n",
    "}\n",
    "\n",
    "console.log(\"Computer: \" + computerChoice);"
   ]
  },
  {
   "cell_type": "code",
   "execution_count": 7,
   "metadata": {
    "collapsed": true
   },
   "outputs": [],
   "source": [
    "var compare = function(choice1, choice2){\n",
    "    if (choice1 === choice2) {\n",
    "        return \"The result is a tie!\";\n",
    "        }\n",
    "    else if (choice1 === \"paper\") {\n",
    "        if (choice2 === \"rock\"){\n",
    "            return \"paper wins\";\n",
    "            }\n",
    "        return \"paper wins\";\n",
    "        }\n",
    "    else {\n",
    "        return \"scissors wins\";\n",
    "        }\n",
    "    }"
   ]
  },
  {
   "cell_type": "code",
   "execution_count": null,
   "metadata": {
    "collapsed": true
   },
   "outputs": [],
   "source": [
    "var inappropriate = function() {\n",
    "    if (choice !== choice1 && choice !== choice2){\n",
    "        return \"try again\";\n",
    "        }\n",
    "    }"
   ]
  }
 ],
 "metadata": {
  "anaconda-cloud": {},
  "kernelspec": {
   "display_name": "jp-Babel (Node.js)",
   "language": "babel",
   "name": "babel"
  },
  "language_info": {
   "file_extension": ".js",
   "mimetype": "application/javascript",
   "name": "javascript",
   "version": "6.10.3"
  }
 },
 "nbformat": 4,
 "nbformat_minor": 2
}
