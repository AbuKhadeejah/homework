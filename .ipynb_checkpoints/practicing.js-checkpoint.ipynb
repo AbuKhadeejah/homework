{
 "cells": [
  {
   "cell_type": "markdown",
   "metadata": {},
   "source": [
    "# for loops "
   ]
  },
  {
   "cell_type": "code",
   "execution_count": 12,
   "metadata": {
    "collapsed": false
   },
   "outputs": [
    {
     "name": "stdout",
     "output_type": "stream",
     "text": [
      "\n",
      "\n",
      "\n",
      "\n",
      "\n",
      "\n",
      "\n",
      "\n",
      "\n",
      "\n",
      "\n",
      "\n",
      "\n",
      "\n",
      "\n",
      "\n",
      "\n",
      "\n",
      "\n",
      "\n",
      "\n",
      "\n",
      "\n",
      "\n",
      "\n",
      "\n",
      "\n",
      "\n",
      "\n"
     ]
    }
   ],
   "source": [
    "for(var i = 1; i < 30;i++){\n",
    "    console.log();\n",
    "}"
   ]
  },
  {
   "cell_type": "markdown",
   "metadata": {},
   "source": [
    "# arrays"
   ]
  },
  {
   "cell_type": "code",
   "execution_count": 13,
   "metadata": {
    "collapsed": false
   },
   "outputs": [
    {
     "name": "stdout",
     "output_type": "stream",
     "text": [
      "I know someone called khadeejah\n",
      "I know someone called abdullah\n",
      "I know someone called suriyanti\n",
      "I know someone called kerstin\n",
      "I know someone called jacek\n"
     ]
    }
   ],
   "source": [
    "var names = ['khadeejah','abdullah','suriyanti','kerstin','jacek'];\n",
    "\n",
    "for(var i = 0; i < names.length;i++){\n",
    "    console.log(\"I know someone called \" + names[i]);\n",
    "    }"
   ]
  },
  {
   "cell_type": "code",
   "execution_count": 14,
   "metadata": {
    "collapsed": false
   },
   "outputs": [
    {
     "name": "stdout",
     "output_type": "stream",
     "text": [
      "Your name wasn't found at All!\n"
     ]
    }
   ],
   "source": [
    "/*jshint multistr:true */\n",
    "var text = \"Hey, it's me Ibrahim. how are you \\\n",
    "doing? Yes, My name is Ibrahim.\"; \n",
    "\n",
    "var myName = \"Ibrahim\";\n",
    "var hits = [];\n",
    "\n",
    "for (var i = 0; i < text.length;i++) {\n",
    "    if (text[i] === \"I\") {\n",
    "        for(var j = i; j < (myName.length + i); j++){\n",
    "            hits.push(text[j]);    \n",
    "            }\n",
    "        }\n",
    "    }\n",
    "    \n",
    "if (hits.length === 0){\n",
    "    console.log(\"Your name wasn't found!\");\n",
    "    }\n",
    "else if (hits.length !== hits.indexOf(hits[\"I\",\"b\",\"r\",\"a\",\"h\",\"i\",\"m\"])){\n",
    "    console.log(\"Your name wasn't found at All!\");\n",
    "    }\n",
    "else {\n",
    "    console.log(hits);\n",
    "    }"
   ]
  },
  {
   "cell_type": "code",
   "execution_count": 15,
   "metadata": {
    "collapsed": false
   },
   "outputs": [
    {
     "name": "stdout",
     "output_type": "stream",
     "text": [
      "I'm looping!\n",
      "I'm looping!\n",
      "I'm looping!\n"
     ]
    }
   ],
   "source": [
    "var count = 0;\n",
    "\n",
    "var loop = function(){\n",
    "\twhile(count < 3){\n",
    "\tcount++;//Your code goes here!\n",
    "\tconsole.log(\"I'm looping!\");\n",
    "\t}\n",
    "};\n",
    "\n",
    "loop();"
   ]
  },
  {
   "cell_type": "code",
   "execution_count": 16,
   "metadata": {
    "collapsed": false
   },
   "outputs": [
    {
     "name": "stdout",
     "output_type": "stream",
     "text": [
      "give me more!\n",
      "give me more!\n",
      "give me more!\n",
      "give me more!\n",
      "give me more!\n",
      "can i have some?\n"
     ]
    },
    {
     "data": {
      "text/plain": [
       "false"
      ]
     },
     "execution_count": 16,
     "metadata": {},
     "output_type": "execute_result"
    }
   ],
   "source": [
    "var cookies = 0;\n",
    "\n",
    "for (var cookies = 1; cookies < 15; cookies+=3 ){\n",
    "    console.log(\"give me more!\");\n",
    "    }\n",
    "    \n",
    "  \n",
    "while(cookies){\n",
    "    console.log(\"can i have some?\");\n",
    "    cookies = false;\n",
    "    }"
   ]
  },
  {
   "cell_type": "code",
   "execution_count": 17,
   "metadata": {
    "collapsed": false
   },
   "outputs": [
    {
     "name": "stdout",
     "output_type": "stream",
     "text": [
      "trying\n"
     ]
    }
   ],
   "source": [
    "var getToDaChoppa = function(){\n",
    "  // Write your do/while loop here!\n",
    "  do {\n",
    "    console.log(\"trying\");\n",
    "    // The thing to do at least once!\n",
    "    } \n",
    "    while(getToDaChoppa === false);\n",
    "};\n",
    "\n",
    "getToDaChoppa();"
   ]
  },
  {
   "cell_type": "code",
   "execution_count": 18,
   "metadata": {
    "collapsed": false
   },
   "outputs": [
    {
     "name": "stdout",
     "output_type": "stream",
     "text": [
      "nice!\n",
      "nice!\n",
      "nice!\n",
      "nice!\n",
      "nice!\n",
      "nice!\n",
      "nice!\n",
      "nice!\n",
      "nice!\n",
      "nice!\n",
      "nice!\n",
      "nice!\n",
      "nice!\n",
      "nice!\n",
      "2\n",
      "3\n",
      "4\n",
      "5\n",
      "6\n",
      "7\n",
      "8\n",
      "9\n",
      "10\n",
      "11\n",
      "12\n",
      "13\n",
      "14\n",
      "15\n",
      "hi, it me.\n"
     ]
    }
   ],
   "source": [
    "// Write your code below!\n",
    "for(var i = 1; i < 15; i+=1){\n",
    "    console.log(\"nice!\");\n",
    "    }\n",
    "\n",
    "var x = 1;\n",
    "while(x < 15){\n",
    "    console.log(x+=1);\n",
    "    }\n",
    "    \n",
    "var b = 15;    \n",
    "do {\n",
    "    console.log(\"hi, it me.\");\n",
    "    }while(b<15);"
   ]
  },
  {
   "cell_type": "code",
   "execution_count": 19,
   "metadata": {
    "collapsed": true
   },
   "outputs": [],
   "source": [
    "var isEven = function(number) {\n",
    "  if(number % 2 === 0){\n",
    "      return true;\n",
    "      }\n",
    "      \n",
    "  else{\n",
    "      return false;\n",
    "      }\n",
    "};"
   ]
  },
  {
   "cell_type": "code",
   "execution_count": 20,
   "metadata": {
    "collapsed": false
   },
   "outputs": [
    {
     "data": {
      "text/plain": [
       "'false'"
      ]
     },
     "execution_count": 20,
     "metadata": {},
     "output_type": "execute_result"
    }
   ],
   "source": [
    "var isEven = function(number) {\n",
    "  // Your code goes here!\n",
    "  if(number % 2 === 0){\n",
    "      return \"true\";\n",
    "      }\n",
    "      \n",
    "  else if (isNaN(number) === true){\n",
    "      return \"true\";\n",
    "      }\n",
    "      \n",
    "  else{\n",
    "      return \"false\";\n",
    "      }\n",
    "};\n",
    "\n",
    "isEven(3);"
   ]
  },
  {
   "cell_type": "code",
   "execution_count": 21,
   "metadata": {
    "collapsed": false
   },
   "outputs": [
    {
     "ename": "ReferenceError",
     "evalue": "prompt is not defined",
     "output_type": "error",
     "traceback": [
      "ReferenceError: prompt is not defined",
      "    at evalmachine.<anonymous>:1:-49",
      "    at ContextifyScript.Script.runInThisContext (vm.js:25:33)",
      "    at Object.runInThisContext (vm.js:97:38)",
      "    at run ([eval]:617:19)",
      "    at onRunRequest ([eval]:388:22)",
      "    at onMessage ([eval]:356:17)",
      "    at emitTwo (events.js:106:13)",
      "    at process.emit (events.js:191:7)",
      "    at process.nextTick (internal/child_process.js:753:12)",
      "    at _combinedTickCallback (internal/process/next_tick.js:73:7)"
     ]
    }
   ],
   "source": [
    "var lunch = prompt(\"What do you want for lunch?\",\"Type your lunch choice here\");\n",
    "\n",
    "switch(lunch){\n",
    "  case 'sandwich':\n",
    "    console.log(\"Sure thing! One sandwich, coming up.\");\n",
    "    break;\n",
    "  case 'soup':\n",
    "    console.log(\"Got it! Tomato's my favorite.\");\n",
    "    break;\n",
    "  case 'salad':\n",
    "    console.log(\"Sounds good! How about a caesar salad?\");\n",
    "    break;\n",
    "  case 'pie':\n",
    "    console.log(\"Pie's not a meal!\");\n",
    "    break;\n",
    "  default:\n",
    "    console.log(\"Huh! I'm not sure what \" + lunch + \" is. How does a sandwich sound?\");\n",
    "}"
   ]
  },
  {
   "cell_type": "code",
   "execution_count": 22,
   "metadata": {
    "collapsed": false
   },
   "outputs": [
    {
     "name": "stdout",
     "output_type": "stream",
     "text": [
      "Awesome! Let's keep learning!\n"
     ]
    }
   ],
   "source": [
    "var iLoveJavaScript = true;\n",
    "var iLoveLearning = true;\n",
    "\n",
    "if(iLoveJavaScript && iLoveLearning) {\n",
    "  // if iLoveJavaScript AND iLoveLearning:\n",
    "  console.log(\"Awesome! Let's keep learning!\");\n",
    "} else if(!(iLoveJavaScript || iLoveLearning)) {\n",
    "  // if NOT iLoveJavaScript OR iLoveLearning:\n",
    "  console.log(\"Let's see if we can change your mind.\");\n",
    "} else {\n",
    "  console.log(\"You only like one but not the other? We'll work on it.\");\n",
    "}"
   ]
  },
  {
   "cell_type": "code",
   "execution_count": 23,
   "metadata": {
    "collapsed": true
   },
   "outputs": [],
   "source": [
    "var hungry = true;\n",
    "var foodHere = true;\n",
    "\n",
    "var eat = function() {\n",
    "  // Add your if/else statement here!\n",
    "  if(hungry === true && foodHere === true){\n",
    "      return true;\n",
    "      }\n",
    "      \n",
    "  else {\n",
    "      return false;\n",
    "      }\n",
    "};"
   ]
  },
  {
   "cell_type": "code",
   "execution_count": 24,
   "metadata": {
    "collapsed": true
   },
   "outputs": [],
   "source": [
    "var tired = true;\n",
    "var bored = false;\n",
    "\n",
    "var nap = function() {\n",
    "  // Add your if/else statement here!\n",
    "  if(tired || bored){\n",
    "      return true;\n",
    "      }\n",
    "      \n",
    "  else {\n",
    "      return false;\n",
    "      }      \n",
    "};"
   ]
  },
  {
   "cell_type": "code",
   "execution_count": 25,
   "metadata": {
    "collapsed": true
   },
   "outputs": [],
   "source": [
    "var programming = false;\n",
    "\n",
    "var happy = function() {\n",
    "  // Add your if/else statement here!\n",
    "  if(programming !== true){\n",
    "      return true;\n",
    "      }\n",
    "      \n",
    "  else {\n",
    "      return false;\n",
    "      }      \n",
    "};"
   ]
  },
  {
   "cell_type": "code",
   "execution_count": null,
   "metadata": {
    "collapsed": true
   },
   "outputs": [],
   "source": [
    "var troll = prompt(\"You're walking through the forest, minding your own business, and you run into a troll! Do you FIGHT him, PAY him, or RUN?\").toUpperCase();\n",
    "\n",
    "switch(troll) {\n",
    "  case 'FIGHT':\n",
    "    var strong = prompt(\"How courageous! Are you strong (YES or NO)?\").toUpperCase();\n",
    "    var smart = prompt(\"Are you smart?\").toUpperCase();\n",
    "    if(strong === 'YES' || smart === 'YES') {\n",
    "      console.log(\"You only need one of the two! You beat the troll--nice work!\");\n",
    "    } else {\n",
    "      console.log(\"You're not strong OR smart? Well, if you were smarter, you probably wouldn't have tried to fight a troll. You lose!\");\n",
    "    }\n",
    "    break;\n",
    "  case 'PAY':\n",
    "    var money = prompt(\"All right, we'll pay the troll. Do you have any money (YES or NO)?\").toUpperCase();\n",
    "    var dollars = prompt(\"Is your money in Troll Dollars?\").toUpperCase();\n",
    "    if(money === 'YES' && dollars === 'YES') {\n",
    "      console.log(\"Great! You pay the troll and continue on your merry way.\");\n",
    "    } else {\n",
    "      console.log(\"Dang! This troll only takes Troll Dollars. You get whomped!\");\n",
    "    }\n",
    "    break;\n",
    "  case 'RUN':\n",
    "    var fast = prompt(\"Let's book it! Are you fast (YES or NO)?\").toUpperCase();\n",
    "    var headStart = prompt(\"Did you get a head start?\").toUpperCase();\n",
    "    if(fast === 'YES' || headStart === 'YES') {\n",
    "      console.log(\"You got away--barely! You live to stroll through the forest another day.\");\n",
    "    } else {\n",
    "      console.log(\"You're not fast and you didn't get a head start? You never had a chance! The troll eats you.\");\n",
    "    }\n",
    "    break;\n",
    "  default:\n",
    "    console.log(\"I didn't understand your choice. Hit Run and try again, this time picking FIGHT, PAY, or RUN!\");\n",
    "}"
   ]
  },
  {
   "cell_type": "code",
   "execution_count": null,
   "metadata": {
    "collapsed": true
   },
   "outputs": [],
   "source": [
    "function Person (name, age) {\n",
    "this.name = name;\n",
    "this.age = age; \n",
    "}\n",
    "\n",
    "var family = new Person();\n",
    "\n",
    "family[0] = new Person (\"alice\", 40);\n",
    "family[1] = new Person (\"bob\", 42);\n",
    "family[2] = new Person (\"michelle\", 8);\n",
    "family[3] = new Person (\"timmy\", 6);"
   ]
  },
  {
   "cell_type": "code",
   "execution_count": null,
   "metadata": {
    "collapsed": true
   },
   "outputs": [],
   "source": [
    "var friends = {};\n",
    "friends.bill = {\n",
    "  firstName: \"Bill\",\n",
    "  lastName: \"Gates\",\n",
    "  number: \"(206) 555-5555\",\n",
    "  address: ['One Microsoft Way','Redmond','WA','98052']\n",
    "};\n",
    "friends.steve = {\n",
    "  firstName: \"Steve\",\n",
    "  lastName: \"Jobs\",\n",
    "  number: \"(408) 555-5555\",\n",
    "  address: ['1 Infinite Loop','Cupertino','CA','95014']\n",
    "};\n",
    "\n",
    "var list = function(obj) {\n",
    "  for(var prop in obj) {\n",
    "    console.log(prop);\n",
    "  }\n",
    "};\n",
    "\n",
    "var search = function(name) {\n",
    "  for(var prop in friends) {\n",
    "    if(friends[prop].firstName === name) {\n",
    "      console.log(friends[prop]);\n",
    "      return friends[prop];\n",
    "    }\n",
    "  }\n",
    "};\n",
    "\n",
    "list(friends);\n",
    "search(\"Steve\");"
   ]
  },
  {
   "cell_type": "code",
   "execution_count": 7,
   "metadata": {
    "collapsed": false
   },
   "outputs": [
    {
     "name": "stdout",
     "output_type": "stream",
     "text": [
      "1\n",
      "2\n",
      "Fizz\n",
      "4\n",
      "Buzz\n",
      "Fizz\n",
      "7\n",
      "8\n",
      "Fizz\n",
      "Buzz\n",
      "11\n",
      "Fizz\n",
      "13\n",
      "14\n",
      "FizzBuzz\n",
      "16\n",
      "17\n",
      "Fizz\n",
      "19\n",
      "Buzz\n"
     ]
    }
   ],
   "source": [
    "for (var i=1; i <= 20; i++)\n",
    "{\n",
    "    if (i % 15 == 0)\n",
    "        console.log(\"FizzBuzz\");\n",
    "    else if (i % 3 == 0)\n",
    "        console.log(\"Fizz\");\n",
    "    else if (i % 5 == 0)\n",
    "        console.log(\"Buzz\");\n",
    "    else\n",
    "        console.log(i);\n",
    "}"
   ]
  },
  {
   "cell_type": "code",
   "execution_count": 9,
   "metadata": {
    "collapsed": false
   },
   "outputs": [
    {
     "data": {
      "text/plain": [
       "'Great story. Mean prospector.!'"
      ]
     },
     "execution_count": 9,
     "metadata": {},
     "output_type": "execute_result"
    }
   ],
   "source": [
    "var getReview = function (movie) {\n",
    "    //var getReview = \"enter the movie\";\n",
    "\n",
    "    switch (movie) {\n",
    "      case \"Toy Story 2\":\n",
    "        return \"Great story. Mean prospector.!\";\n",
    "        break;\n",
    "        \n",
    "      case \"Finding Nemo\":\n",
    "        return \"Cool animation, and funny turtles.\";\n",
    "        break;\n",
    "        \n",
    "      case \"The Lion King\":\n",
    "        return \"Great songs.\";  \n",
    "        break;\n",
    "        \n",
    "      default:\n",
    "        return \"I don't know!\";\n",
    "    }\n",
    "};\n",
    "\n",
    "getReview(\"Toy Story 2\");\n"
   ]
  },
  {
   "cell_type": "code",
   "execution_count": 12,
   "metadata": {
    "collapsed": false
   },
   "outputs": [
    {
     "name": "stdout",
     "output_type": "stream",
     "text": [
      "1984\n"
     ]
    }
   ],
   "source": [
    "var ibrahim = new Object();\n",
    "ibrahim.age = 33;\n",
    "// this time we have added a method, setAge\n",
    "ibrahim.setAge = function (newAge){\n",
    "  ibrahim.age = newAge;\n",
    "};\n",
    "\n",
    "ibrahim.getYearOfBirth = function () {\n",
    "  return 2017 - ibrahim.age;\n",
    "};\n",
    "console.log(ibrahim.getYearOfBirth());"
   ]
  },
  {
   "cell_type": "code",
   "execution_count": null,
   "metadata": {
    "collapsed": true
   },
   "outputs": [],
   "source": [
    "var square = new Object();\n",
    "square.sideLength = 6;\n",
    "square.calcPerimeter = function() {\n",
    "  return this.sideLength * 4;\n",
    "};\n",
    "// help us define an area method here\n",
    "square.calcArea = function() {\n",
    "    return this.sideLength * this.sideLength;\n",
    "    };\n",
    "\n",
    "var p = square.calcPerimeter();\n",
    "var a = square.calcArea();"
   ]
  },
  {
   "cell_type": "code",
   "execution_count": null,
   "metadata": {
    "collapsed": true
   },
   "outputs": [],
   "source": [
    "function Person(name,age) {\n",
    "  this.name = name;\n",
    "  this.age = age;\n",
    "  this.species = \"Homo Sapiens\";\n",
    "}\n",
    "\n",
    "var sally = new Person(\"Sally Bowles\", 39);\n",
    "var holden = new Person(\"Holden Caulfield\", 16);\n",
    "\n",
    "console.log(\"sally's species is \" + sally.species + \" and she is \" + sally.age + \" and her fullname is \" + sally.name );\n",
    "console.log(\"holden's species is \" + holden.species + \" and he is \" + holden.age + \" and her fullname is \" + holden.name);"
   ]
  },
  {
   "cell_type": "code",
   "execution_count": 14,
   "metadata": {
    "collapsed": true
   },
   "outputs": [],
   "source": [
    "function Rabbit(adjective) {\n",
    "    this.adjective = adjective;\n",
    "    this.describeMyself = function() {\n",
    "        console.log(\"I am a \" + this.adjective + \" rabbit\");\n",
    "    };\n",
    "}\n",
    "\n",
    "// now we can easily make all of our rabbits\n",
    "var rabbit1 = new Rabbit(\"fluffy\");\n",
    "\n",
    "var rabbit2 = new Rabbit(\"happy\");\n",
    "\n",
    "var rabbit3 = new Rabbit(\"sleepy\");\n",
    "\n",
    "Rabbit(rabbit1);"
   ]
  },
  {
   "cell_type": "code",
   "execution_count": 15,
   "metadata": {
    "collapsed": false
   },
   "outputs": [
    {
     "data": {
      "text/plain": [
       "Person { name: 'timmy', age: 6 }"
      ]
     },
     "execution_count": 15,
     "metadata": {},
     "output_type": "execute_result"
    }
   ],
   "source": [
    "// Our person constructor\n",
    "function Person (name, age) {\n",
    "    this.name = name;\n",
    "    this.age = age;\n",
    "}\n",
    "\n",
    "// Now we can make an array of people\n",
    "var family = new Array();\n",
    "family[0] = new Person(\"alice\", 40);\n",
    "family[1] = new Person(\"bob\", 42);\n",
    "family[2] = new Person(\"michelle\", 8);\n",
    "// add the last family member, \"timmy\", who is 6 years old\n",
    "family[3] = new Person(\"timmy\", 6);"
   ]
  },
  {
   "cell_type": "code",
   "execution_count": 17,
   "metadata": {
    "collapsed": false
   },
   "outputs": [
    {
     "name": "stdout",
     "output_type": "stream",
     "text": [
      "alice40\n",
      "bob42\n",
      "michelle8\n",
      "timmy6\n"
     ]
    }
   ],
   "source": [
    "// Our Person constructor\n",
    "function Person (name, age) {\n",
    "    this.name = name;\n",
    "    this.age = age;\n",
    "}\n",
    "\n",
    "// Now we can make an array of people\n",
    "var family = new Array();\n",
    "family[0] = new Person(\"alice\", 40);\n",
    "family[1] = new Person(\"bob\", 42);\n",
    "family[2] = new Person(\"michelle\", 8);\n",
    "family[3] = new Person(\"timmy\", 6);\n",
    "\n",
    "// loop through our new array\n",
    "var i=0;\n",
    "for(i=0; i<family.length;i++){\n",
    "console.log(family[i].name + family[i].age);\n",
    "}"
   ]
  },
  {
   "cell_type": "code",
   "execution_count": 18,
   "metadata": {
    "collapsed": true
   },
   "outputs": [],
   "source": [
    "// Our person constructor\n",
    "function Person (name, age) {\n",
    "    this.name = name;\n",
    "    this.age = age;\n",
    "}\n",
    "\n",
    "// We can make a function which takes persons as arguments\n",
    "// This one computes the difference in ages between two people\n",
    "var ageDifference = function(person1, person2) {\n",
    "    return person1.age - person2.age;\n",
    "}\n",
    "\n",
    "var alice = new Person(\"Alice\", 30);\n",
    "var billy = new Person(\"Billy\", 25);\n",
    "\n",
    "// get the difference in age between alice and billy using our function\n",
    "var diff = ageDifference(alice,billy);"
   ]
  },
  {
   "cell_type": "code",
   "execution_count": 19,
   "metadata": {
    "collapsed": false
   },
   "outputs": [
    {
     "name": "stdout",
     "output_type": "stream",
     "text": [
      "The older person is 30\n"
     ]
    }
   ],
   "source": [
    "// Our person constructor\n",
    "function Person (name, age) {\n",
    "    this.name = name;\n",
    "    this.age = age;\n",
    "}\n",
    "\n",
    "// We can make a function which takes persons as arguments\n",
    "// This one computes the difference in ages between two people\n",
    "var ageDifference = function(person1, person2) {\n",
    "    return person1.age - person2.age;\n",
    "};\n",
    "\n",
    "// Make a new function, olderAge, to return the age of\n",
    "// the older of two people\n",
    "var olderAge = function(person1, person2) {\n",
    "    if (person1.age > person2.age){\n",
    "        return person1.age;\n",
    "        }\n",
    "    else\n",
    "        return person2.age;\n",
    "    };\n",
    "\n",
    "// Let's bring back alice and billy to test our new function\n",
    "var alice = new Person(\"Alice\", 30);\n",
    "var billy = new Person(\"Billy\", 25);\n",
    "\n",
    "console.log(\"The older person is \" + olderAge(alice, billy));\n"
   ]
  },
  {
   "cell_type": "code",
   "execution_count": null,
   "metadata": {
    "collapsed": true
   },
   "outputs": [],
   "source": [
    "// 3 lines required to make harry_potter\n",
    "var harry_potter = new Object();\n",
    "harry_potter.pages = 350;\n",
    "harry_potter.author = \"J.K. Rowling\";\n",
    "\n",
    "// A custom constructor for book\n",
    "function Book (pages, author) {\n",
    "    this.pages = pages;\n",
    "    this.author = author;\n",
    "}\n",
    "\n",
    "// Use our new constructor to make the_hobbit in one line\n",
    "var the_hobbit = new Book(320, \"J.R.R. Tolkien\");"
   ]
  }
 ],
 "metadata": {
  "anaconda-cloud": {},
  "kernelspec": {
   "display_name": "jp-Babel (Node.js)",
   "language": "babel",
   "name": "babel"
  },
  "language_info": {
   "file_extension": ".js",
   "mimetype": "application/javascript",
   "name": "javascript",
   "version": "6.10.3"
  }
 },
 "nbformat": 4,
 "nbformat_minor": 2
}
