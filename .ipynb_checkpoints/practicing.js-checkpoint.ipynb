{
 "cells": [
  {
   "cell_type": "markdown",
   "metadata": {},
   "source": [
    "# for loops "
   ]
  },
  {
   "cell_type": "code",
   "execution_count": null,
   "metadata": {
    "collapsed": true
   },
   "outputs": [],
   "source": [
    "for(var i = 1; i < 30;i++){\n",
    "    console.log();\n",
    "}"
   ]
  },
  {
   "cell_type": "markdown",
   "metadata": {},
   "source": [
    "# arrays"
   ]
  },
  {
   "cell_type": "code",
   "execution_count": null,
   "metadata": {
    "collapsed": true
   },
   "outputs": [],
   "source": [
    "var names = ['khadeejah','abdullah','suriyanti','kerstin','jacek'];\n",
    "\n",
    "for(var i = 0; i < names.length;i++){\n",
    "    console.log(\"I know someone called \" + names[i]);\n",
    "    }"
   ]
  },
  {
   "cell_type": "code",
   "execution_count": 8,
   "metadata": {
    "collapsed": false
   },
   "outputs": [
    {
     "name": "stdout",
     "output_type": "stream",
     "text": [
      "Your name wasn't found at All!\n"
     ]
    }
   ],
   "source": [
    "/*jshint multistr:true */\n",
    "var text = \"Hey, it's me Ibrahim. how are you \\\n",
    "doing? Yes, My name is Ibrahim.\"; \n",
    "\n",
    "var myName = \"Ibrahim\";\n",
    "var hits = [];\n",
    "\n",
    "for (var i = 0; i < text.length;i++) {\n",
    "    if (text[i] === \"I\") {\n",
    "        for(var j = i; j < (myName.length + i); j++){\n",
    "            hits.push(text[j]);    \n",
    "            }\n",
    "        }\n",
    "    }\n",
    "    \n",
    "if (hits.length === 0){\n",
    "    console.log(\"Your name wasn't found!\");\n",
    "    }\n",
    "else if (hits.length !== hits.indexOf(hits[\"I\",\"b\",\"r\",\"a\",\"h\",\"i\",\"m\"])){\n",
    "    console.log(\"Your name wasn't found at All!\");\n",
    "    }\n",
    "else {\n",
    "    console.log(hits);\n",
    "    }"
   ]
  },
  {
   "cell_type": "code",
   "execution_count": null,
   "metadata": {
    "collapsed": true
   },
   "outputs": [],
   "source": [
    "var count = 0;\n",
    "\n",
    "var loop = function(){\n",
    "\twhile(count < 3){\n",
    "\tcount++;//Your code goes here!\n",
    "\tconsole.log(\"I'm looping!\");\n",
    "\t}\n",
    "};\n",
    "\n",
    "loop();"
   ]
  },
  {
   "cell_type": "code",
   "execution_count": null,
   "metadata": {
    "collapsed": true
   },
   "outputs": [],
   "source": [
    "var cookies = 0;\n",
    "\n",
    "for (var cookies = 1; cookies < 15; cookies+=3 ){\n",
    "    console.log(\"give me more!\");\n",
    "    }\n",
    "    \n",
    "  \n",
    "while(cookies){\n",
    "    console.log(\"can i have some?\");\n",
    "    cookies = false;\n",
    "    }"
   ]
  },
  {
   "cell_type": "code",
   "execution_count": null,
   "metadata": {
    "collapsed": true
   },
   "outputs": [],
   "source": [
    "var getToDaChoppa = function(){\n",
    "  // Write your do/while loop here!\n",
    "  do {\n",
    "    console.log(\"trying\");\n",
    "    // The thing to do at least once!\n",
    "    } \n",
    "    while(getToDaChoppa === false);\n",
    "};\n",
    "\n",
    "getToDaChoppa();"
   ]
  },
  {
   "cell_type": "code",
   "execution_count": 9,
   "metadata": {
    "collapsed": false
   },
   "outputs": [
    {
     "name": "stdout",
     "output_type": "stream",
     "text": [
      "hi, my name is ibrahim.\n"
     ]
    }
   ],
   "source": [
    "// Write your code below!\n",
    "for(var i = 1; i < 15; i+=1){\n",
    "    console.log(\"nice!\");\n",
    "    }\n",
    "\n",
    "var x = 1;\n",
    "while(x < 15){\n",
    "    console.log(x+=1);\n",
    "    }\n",
    "    \n",
    "var b = 15;    \n",
    "do {\n",
    "    console.log(\"hi, it me.\");\n",
    "    }while(b<15);"
   ]
  },
  {
   "cell_type": "code",
   "execution_count": null,
   "metadata": {
    "collapsed": true
   },
   "outputs": [],
   "source": [
    "var isEven = function(number) {\n",
    "  if(number % 2 === 0){\n",
    "      return true;\n",
    "      }\n",
    "      \n",
    "  else{\n",
    "      return false;\n",
    "      }\n",
    "};"
   ]
  },
  {
   "cell_type": "code",
   "execution_count": 10,
   "metadata": {
    "collapsed": false
   },
   "outputs": [
    {
     "data": {
      "text/plain": [
       "'false'"
      ]
     },
     "execution_count": 10,
     "metadata": {},
     "output_type": "execute_result"
    }
   ],
   "source": [
    "var isEven = function(number) {\n",
    "  // Your code goes here!\n",
    "  if(number % 2 === 0){\n",
    "      return \"true\";\n",
    "      }\n",
    "      \n",
    "  else if (isNaN(number) === true){\n",
    "      return \"true\";\n",
    "      }\n",
    "      \n",
    "  else{\n",
    "      return \"false\";\n",
    "      }\n",
    "};\n",
    "\n",
    "isEven(3);"
   ]
  },
  {
   "cell_type": "code",
   "execution_count": 11,
   "metadata": {
    "collapsed": false
   },
   "outputs": [
    {
     "ename": "ReferenceError",
     "evalue": "prompt is not defined",
     "output_type": "error",
     "traceback": [
      "ReferenceError: prompt is not defined",
      "    at evalmachine.<anonymous>:1:-49",
      "    at ContextifyScript.Script.runInThisContext (vm.js:25:33)",
      "    at Object.runInThisContext (vm.js:97:38)",
      "    at run ([eval]:617:19)",
      "    at onRunRequest ([eval]:388:22)",
      "    at onMessage ([eval]:356:17)",
      "    at emitTwo (events.js:106:13)",
      "    at process.emit (events.js:191:7)",
      "    at process.nextTick (internal/child_process.js:753:12)",
      "    at _combinedTickCallback (internal/process/next_tick.js:73:7)"
     ]
    }
   ],
   "source": [
    "var lunch = prompt(\"What do you want for lunch?\",\"Type your lunch choice here\");\n",
    "\n",
    "switch(lunch){\n",
    "  case 'sandwich':\n",
    "    console.log(\"Sure thing! One sandwich, coming up.\");\n",
    "    break;\n",
    "  case 'soup':\n",
    "    console.log(\"Got it! Tomato's my favorite.\");\n",
    "    break;\n",
    "  case 'salad':\n",
    "    console.log(\"Sounds good! How about a caesar salad?\");\n",
    "    break;\n",
    "  case 'pie':\n",
    "    console.log(\"Pie's not a meal!\");\n",
    "    break;\n",
    "  default:\n",
    "    console.log(\"Huh! I'm not sure what \" + lunch + \" is. How does a sandwich sound?\");\n",
    "}"
   ]
  },
  {
   "cell_type": "code",
   "execution_count": null,
   "metadata": {
    "collapsed": true
   },
   "outputs": [],
   "source": [
    "var iLoveJavaScript = true;\n",
    "var iLoveLearning = true;\n",
    "\n",
    "if(iLoveJavaScript && iLoveLearning) {\n",
    "  // if iLoveJavaScript AND iLoveLearning:\n",
    "  console.log(\"Awesome! Let's keep learning!\");\n",
    "} else if(!(iLoveJavaScript || iLoveLearning)) {\n",
    "  // if NOT iLoveJavaScript OR iLoveLearning:\n",
    "  console.log(\"Let's see if we can change your mind.\");\n",
    "} else {\n",
    "  console.log(\"You only like one but not the other? We'll work on it.\");\n",
    "}"
   ]
  },
  {
   "cell_type": "code",
   "execution_count": null,
   "metadata": {
    "collapsed": true
   },
   "outputs": [],
   "source": [
    "var hungry = true;\n",
    "var foodHere = true;\n",
    "\n",
    "var eat = function() {\n",
    "  // Add your if/else statement here!\n",
    "  if(hungry === true && foodHere === true){\n",
    "      return true;\n",
    "      }\n",
    "      \n",
    "  else {\n",
    "      return false;\n",
    "      }\n",
    "};"
   ]
  },
  {
   "cell_type": "code",
   "execution_count": null,
   "metadata": {
    "collapsed": true
   },
   "outputs": [],
   "source": [
    "var tired = true;\n",
    "var bored = false;\n",
    "\n",
    "var nap = function() {\n",
    "  // Add your if/else statement here!\n",
    "  if(tired || bored){\n",
    "      return true;\n",
    "      }\n",
    "      \n",
    "  else {\n",
    "      return false;\n",
    "      }      \n",
    "};"
   ]
  },
  {
   "cell_type": "code",
   "execution_count": null,
   "metadata": {
    "collapsed": true
   },
   "outputs": [],
   "source": [
    "var programming = false;\n",
    "\n",
    "var happy = function() {\n",
    "  // Add your if/else statement here!\n",
    "  if(programming !== true){\n",
    "      return true;\n",
    "      }\n",
    "      \n",
    "  else {\n",
    "      return false;\n",
    "      }      \n",
    "};"
   ]
  }
 ],
 "metadata": {
  "kernelspec": {
   "display_name": "jp-Babel (Node.js)",
   "language": "babel",
   "name": "babel"
  },
  "language_info": {
   "file_extension": ".js",
   "mimetype": "application/javascript",
   "name": "javascript",
   "version": "6.10.3"
  }
 },
 "nbformat": 4,
 "nbformat_minor": 2
}
