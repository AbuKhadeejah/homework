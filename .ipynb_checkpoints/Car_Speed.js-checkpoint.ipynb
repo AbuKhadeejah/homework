{
 "cells": [
  {
   "cell_type": "markdown",
   "metadata": {},
   "source": [
    "# The Car class"
   ]
  },
  {
   "cell_type": "code",
   "execution_count": 5,
   "metadata": {
    "collapsed": false,
    "deletable": true,
    "editable": true
   },
   "outputs": [
    {
     "data": {
      "text/plain": [
       "[Function: Car]"
      ]
     },
     "execution_count": 5,
     "metadata": {},
     "output_type": "execute_result"
    }
   ],
   "source": [
    "class Car {\n",
    "    constructor() {\n",
    "        this.isRunning = false;\n",
    "        this.speed = 0;\n",
    "        this.engine = new Engine();\n",
    "    }\n",
    "    \n",
    "    start() {\n",
    "        this.isRunning = true;\n",
    "        this.engine.start()\n",
    "    }\n",
    "    \n",
    "    stop() {\n",
    "        this.isRunning = false;\n",
    "        this.engine.stop()\n",
    "        this.speed = this.engine.calculateSpeed();\n",
    "    }\n",
    "    \n",
    "    setGas(percent) {\n",
    "        this.engine.setEngineGas(percent);\n",
    "        this.speed = this.engine.calculateSpeed();\n",
    "    }\n",
    "\n",
    "    getSpeed() {\n",
    "        this.speed = this.engine.calculateSpeed();\n",
    "    }\n",
    "\n",
    "}\n",
    "\n"
   ]
  },
  {
   "cell_type": "markdown",
   "metadata": {},
   "source": [
    "# The Engine class"
   ]
  },
  {
   "cell_type": "code",
   "execution_count": 6,
   "metadata": {
    "collapsed": false
   },
   "outputs": [
    {
     "data": {
      "text/plain": [
       "[Function: Engine]"
      ]
     },
     "execution_count": 6,
     "metadata": {},
     "output_type": "execute_result"
    }
   ],
   "source": [
    "class Engine {\n",
    "    constructor() {\n",
    "        this.gasPercentage = 0;\n",
    "        this.isRunning = false;\n",
    "    }\n",
    "    \n",
    "    start() {\n",
    "        this.isRunning = true;\n",
    "        this.gasPercentage = 0;\n",
    "    }\n",
    "    \n",
    "    stop() {\n",
    "        this.isRunning = false;\n",
    "        this.gasPercentage = 0;\n",
    "    }\n",
    "    \n",
    "    setEngineGas(percent) {\n",
    "        this.gasPercentage = percent;\n",
    "    }\n",
    "    \n",
    "    calculateSpeed() {\n",
    "        return this.gasPercentage * 2;\n",
    "    }\n",
    "    \n",
    "    toString() {\n",
    "        return `Engine is running: ${this.isRunning}, Gas is: ${this.gasPercentage})`;\n",
    "    }\n",
    "}"
   ]
  },
  {
   "cell_type": "markdown",
   "metadata": {},
   "source": [
    "# Create a car"
   ]
  },
  {
   "cell_type": "code",
   "execution_count": 7,
   "metadata": {
    "collapsed": false,
    "deletable": true,
    "editable": true
   },
   "outputs": [],
   "source": [
    "var myCar = new Car();"
   ]
  },
  {
   "cell_type": "markdown",
   "metadata": {},
   "source": [
    "The car is created and isRunning is false, speed is 0, the Engine is off."
   ]
  },
  {
   "cell_type": "code",
   "execution_count": 8,
   "metadata": {
    "collapsed": false
   },
   "outputs": [
    {
     "name": "stdout",
     "output_type": "stream",
     "text": [
      "Car {\n",
      "  isRunning: false,\n",
      "  speed: 0,\n",
      "  engine: Engine { gasPercentage: 0, isRunning: false } }\n"
     ]
    }
   ],
   "source": [
    "console.log(myCar);"
   ]
  },
  {
   "cell_type": "markdown",
   "metadata": {},
   "source": [
    "# Starting the car"
   ]
  },
  {
   "cell_type": "code",
   "execution_count": 9,
   "metadata": {
    "collapsed": false
   },
   "outputs": [],
   "source": [
    "myCar.start();"
   ]
  },
  {
   "cell_type": "markdown",
   "metadata": {},
   "source": [
    "The Car and the Engine isRunning. Gas and speed is 0;"
   ]
  },
  {
   "cell_type": "code",
   "execution_count": 10,
   "metadata": {
    "collapsed": false
   },
   "outputs": [
    {
     "name": "stdout",
     "output_type": "stream",
     "text": [
      "Car {\n",
      "  isRunning: true,\n",
      "  speed: 0,\n",
      "  engine: Engine { gasPercentage: 0, isRunning: true } }\n"
     ]
    }
   ],
   "source": [
    "console.log(myCar);"
   ]
  },
  {
   "cell_type": "markdown",
   "metadata": {},
   "source": [
    "# Driving! Wohoooo!"
   ]
  },
  {
   "cell_type": "code",
   "execution_count": 11,
   "metadata": {
    "collapsed": false
   },
   "outputs": [
    {
     "name": "stdout",
     "output_type": "stream",
     "text": [
      "Car {\n",
      "  isRunning: true,\n",
      "  speed: 20,\n",
      "  engine: Engine { gasPercentage: 10, isRunning: true } }\n"
     ]
    }
   ],
   "source": [
    "myCar.setGas(10);\n",
    "console.log(myCar);"
   ]
  },
  {
   "cell_type": "code",
   "execution_count": 12,
   "metadata": {
    "collapsed": false
   },
   "outputs": [
    {
     "name": "stdout",
     "output_type": "stream",
     "text": [
      "Car {\n",
      "  isRunning: true,\n",
      "  speed: 100,\n",
      "  engine: Engine { gasPercentage: 50, isRunning: true } }\n"
     ]
    }
   ],
   "source": [
    "myCar.setGas(50);\n",
    "console.log(myCar);"
   ]
  },
  {
   "cell_type": "code",
   "execution_count": 13,
   "metadata": {
    "collapsed": false
   },
   "outputs": [
    {
     "name": "stdout",
     "output_type": "stream",
     "text": [
      "Car {\n",
      "  isRunning: true,\n",
      "  speed: 194,\n",
      "  engine: Engine { gasPercentage: 97, isRunning: true } }\n"
     ]
    }
   ],
   "source": [
    "myCar.setGas(97);\n",
    "console.log(myCar);"
   ]
  },
  {
   "cell_type": "markdown",
   "metadata": {},
   "source": [
    "# Stop the Car"
   ]
  },
  {
   "cell_type": "code",
   "execution_count": 14,
   "metadata": {
    "collapsed": false
   },
   "outputs": [
    {
     "name": "stdout",
     "output_type": "stream",
     "text": [
      "Car {\n",
      "  isRunning: false,\n",
      "  speed: 0,\n",
      "  engine: Engine { gasPercentage: 0, isRunning: false } }\n"
     ]
    }
   ],
   "source": [
    "myCar.stop();\n",
    "console.log(myCar);"
   ]
  }
 ],
 "metadata": {
  "anaconda-cloud": {},
  "kernelspec": {
   "display_name": "jp-Babel (Node.js)",
   "language": "babel",
   "name": "babel"
  },
  "language_info": {
   "file_extension": ".js",
   "mimetype": "application/javascript",
   "name": "javascript",
   "version": "6.10.3"
  }
 },
 "nbformat": 4,
 "nbformat_minor": 2
}
