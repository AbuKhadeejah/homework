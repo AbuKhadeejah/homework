{
 "cells": [
  {
   "cell_type": "code",
   "execution_count": 1,
   "metadata": {
    "collapsed": false
   },
   "outputs": [
    {
     "data": {
      "text/plain": [
       "[Function: Egg]"
      ]
     },
     "execution_count": 1,
     "metadata": {},
     "output_type": "execute_result"
    }
   ],
   "source": [
    "class Egg {\n",
    "    constructor() {\n",
    "        this.isCookig = false;\n",
    "        this.level = 0;\n",
    "        this.egg = new Egg();\n",
    "    }\n",
    "    \n",
    "    start() {\n",
    "        this.isCooking = true;\n",
    "        this.egg.start();\n",
    "    }\n",
    "    \n",
    "    stop() {\n",
    "        this.isCooking = false;\n",
    "        this.Egg.stop();\n",
    "        this.level = this.stove.calculateLevel();\n",
    "    }\n",
    "    \n",
    "    percentageCooked(percent) {\n",
    "        this.Egg.setEggCooked(percent);\n",
    "        this.level = this.level.calculateLevel();\n",
    "    }\n",
    "\n",
    "    minutesToCook() {\n",
    "        this.level = this.stove.calculateLevel();\n",
    "    }\n",
    "\n",
    "}"
   ]
  },
  {
   "cell_type": "code",
   "execution_count": 2,
   "metadata": {
    "collapsed": false
   },
   "outputs": [
    {
     "data": {
      "text/plain": [
       "[Function: Stove]"
      ]
     },
     "execution_count": 2,
     "metadata": {},
     "output_type": "execute_result"
    }
   ],
   "source": [
    "class Stove {\n",
    "    constructor() {\n",
    "        this.percentageCooked = 0;\n",
    "        this.isCooking = false;\n",
    "    }\n",
    "    \n",
    "    start() {\n",
    "        this.isCooking = true;\n",
    "        this.percentageCooked = 0;\n",
    "    }\n",
    "    \n",
    "    stop() {\n",
    "        this.isCooking = false;\n",
    "        this.percentageCooked = 0;\n",
    "    }\n",
    "    \n",
    "    setEggCooked(percent) {\n",
    "        this.percentageCooked = percent;\n",
    "    }\n",
    "    \n",
    "    calculateTime() {\n",
    "        return this.percentageCooked;\n",
    "    }\n",
    "    \n",
    "    toString() {\n",
    "        return `Egg is Cooking: ${this.isCooking}, Time is: ${this.gasPercentage})`;\n",
    "    }\n",
    "}"
   ]
  },
  {
   "cell_type": "code",
   "execution_count": 3,
   "metadata": {
    "collapsed": false
   },
   "outputs": [
    {
     "ename": "RangeError",
     "evalue": "Maximum call stack size exceeded",
     "output_type": "error",
     "traceback": [
      "RangeError: Maximum call stack size exceeded",
      "    at new Egg (evalmachine.<anonymous>:2:16)",
      "    at new Egg (evalmachine.<anonymous>:5:20)",
      "    at new Egg (evalmachine.<anonymous>:5:20)",
      "    at new Egg (evalmachine.<anonymous>:5:20)",
      "    at new Egg (evalmachine.<anonymous>:5:20)",
      "    at new Egg (evalmachine.<anonymous>:5:20)",
      "    at new Egg (evalmachine.<anonymous>:5:20)",
      "    at new Egg (evalmachine.<anonymous>:5:20)",
      "    at new Egg (evalmachine.<anonymous>:5:20)",
      "    at new Egg (evalmachine.<anonymous>:5:20)"
     ]
    }
   ],
   "source": [
    "var myEgg = new Egg();"
   ]
  },
  {
   "cell_type": "code",
   "execution_count": 4,
   "metadata": {
    "collapsed": false
   },
   "outputs": [
    {
     "name": "stdout",
     "output_type": "stream",
     "text": [
      "undefined\n"
     ]
    }
   ],
   "source": [
    "console.log(myEgg);"
   ]
  },
  {
   "cell_type": "code",
   "execution_count": 5,
   "metadata": {
    "collapsed": false
   },
   "outputs": [
    {
     "ename": "TypeError",
     "evalue": "Cannot read property 'find' of undefined",
     "output_type": "error",
     "traceback": [
      "TypeError: Cannot read property 'find' of undefined",
      "    at evalmachine.<anonymous>:3:10",
      "    at ContextifyScript.Script.runInThisContext (vm.js:25:33)",
      "    at Object.runInThisContext (vm.js:97:38)",
      "    at run ([eval]:617:19)",
      "    at onRunRequest ([eval]:388:22)",
      "    at onMessage ([eval]:356:17)",
      "    at emitTwo (events.js:106:13)",
      "    at process.emit (events.js:191:7)",
      "    at process.nextTick (internal/child_process.js:753:12)",
      "    at _combinedTickCallback (internal/process/next_tick.js:73:7)"
     ]
    }
   ],
   "source": [
    "(this).find('.res').text(result);"
   ]
  },
  {
   "cell_type": "code",
   "execution_count": 6,
   "metadata": {
    "collapsed": false
   },
   "outputs": [
    {
     "name": "stdout",
     "output_type": "stream",
     "text": [
      "Human { height: 182 }\n"
     ]
    }
   ],
   "source": [
    "class Human {\n",
    "\tconstructor(height){\n",
    "  this.height = height;\n",
    "  }\n",
    "}\n",
    "\n",
    "const ryan = new Human(182);\n",
    "\n",
    "console.log(ryan)"
   ]
  },
  {
   "cell_type": "code",
   "execution_count": 7,
   "metadata": {
    "collapsed": false
   },
   "outputs": [
    {
     "name": "stdout",
     "output_type": "stream",
     "text": [
      "Person { name: 'ibrahim' }\n"
     ]
    }
   ],
   "source": [
    "class Person {\n",
    "    constructor(name){\n",
    "        this.name = name;\n",
    "    }\n",
    "}\n",
    "\n",
    "const ibrahim = new Person(\"ibrahim\");\n",
    "\n",
    "console.log(ibrahim)"
   ]
  },
  {
   "cell_type": "code",
   "execution_count": 8,
   "metadata": {
    "collapsed": false
   },
   "outputs": [
    {
     "name": "stdout",
     "output_type": "stream",
     "text": [
      "Monster { height: 200, name: 'Bubble', speed: 300 }\n"
     ]
    }
   ],
   "source": [
    "class Monster {\n",
    "    constructor(height, name, speed){\n",
    "        this.height = height;\n",
    "        this.name = name;\n",
    "        this.speed = speed;\n",
    "    }\n",
    "}\n",
    "\n",
    "const Bear = new Monster(200, \"Bubble\", 300);\n",
    "\n",
    "console.log(Bear)"
   ]
  },
  {
   "cell_type": "code",
   "execution_count": 9,
   "metadata": {
    "collapsed": false
   },
   "outputs": [
    {
     "name": "stdout",
     "output_type": "stream",
     "text": [
      "Airplane {\n",
      "  type: 'Boeing 747-100',\n",
      "  speed: 920,\n",
      "  build: 'February 9, 1969',\n",
      "  country: 'United States' }\n"
     ]
    }
   ],
   "source": [
    "class Airplane {\n",
    "    constructor(type, speed, build, country){\n",
    "        this.type = type;\n",
    "        this.speed = speed;\n",
    "        this.build = build;\n",
    "        this.country = country;\n",
    "    }\n",
    "}\n",
    "\n",
    "const Jet = new Airplane(\"Boeing 747-100\", 920, \"February 9, 1969\", \"United States\");\n",
    "\n",
    "console.log(Jet)"
   ]
  }
 ],
 "metadata": {
  "anaconda-cloud": {},
  "kernelspec": {
   "display_name": "jp-Babel (Node.js)",
   "language": "babel",
   "name": "babel"
  },
  "language_info": {
   "file_extension": ".js",
   "mimetype": "application/javascript",
   "name": "javascript",
   "version": "6.10.3"
  }
 },
 "nbformat": 4,
 "nbformat_minor": 2
}
