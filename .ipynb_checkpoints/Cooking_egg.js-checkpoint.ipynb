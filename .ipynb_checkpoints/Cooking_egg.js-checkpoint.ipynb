{
 "cells": [
  {
   "cell_type": "code",
   "execution_count": 1,
   "metadata": {
    "collapsed": false
   },
   "outputs": [
    {
     "data": {
      "text/plain": [
       "[Function: Stove]"
      ]
     },
     "execution_count": 1,
     "metadata": {},
     "output_type": "execute_result"
    }
   ],
   "source": [
    "class Stove {\n",
    "    constructor (heat, minutesToCook){\n",
    "        this.heat = heat;\n",
    "        this.minutesToCook = minutesToCook;\n",
    "    }\n",
    "    \n",
    "        start() {\n",
    "        this.isRunning = true;\n",
    "        this.heaterLevel = 0;\n",
    "    }\n",
    "    \n",
    "    stop() {\n",
    "        this.isRunning = false;\n",
    "        this.heaterLevel = 0;\n",
    "    }\n",
    "    \n",
    "    setStoveLevel(percent) {\n",
    "        this.stovePercentage = percent;\n",
    "    }\n",
    "    \n",
    "    calculateLevel() {\n",
    "        return this.stovePercentage * 2.5;\n",
    "    }\n",
    "}"
   ]
  },
  {
   "cell_type": "code",
   "execution_count": 2,
   "metadata": {
    "collapsed": false
   },
   "outputs": [
    {
     "name": "stdout",
     "output_type": "stream",
     "text": [
      "Stove { heat: 1, minutesToCook: 40 }\n"
     ]
    }
   ],
   "source": [
    "const startStove = new Stove(1,40);\n",
    "console.log(startStove)"
   ]
  },
  {
   "cell_type": "code",
   "execution_count": 3,
   "metadata": {
    "collapsed": false
   },
   "outputs": [
    {
     "data": {
      "text/plain": [
       "[Function: Egg]"
      ]
     },
     "execution_count": 3,
     "metadata": {},
     "output_type": "execute_result"
    }
   ],
   "source": [
    "class Egg {\n",
    "    constructor (percentageCooked){\n",
    "        this.percentageCooked = percentageCooked;\n",
    "    }\n",
    "}"
   ]
  },
  {
   "cell_type": "code",
   "execution_count": 4,
   "metadata": {
    "collapsed": false
   },
   "outputs": [
    {
     "name": "stdout",
     "output_type": "stream",
     "text": [
      "100%[object Object]\n"
     ]
    }
   ],
   "source": [
    "const Cooked = new Egg(100);\n",
    "console.log(\"100%\" + Cooked)"
   ]
  },
  {
   "cell_type": "code",
   "execution_count": 5,
   "metadata": {
    "collapsed": false
   },
   "outputs": [
    {
     "ename": "TypeError",
     "evalue": "(intermediate value).getTime is not a function",
     "output_type": "error",
     "traceback": [
      "TypeError: (intermediate value).getTime is not a function",
      "    at evalmachine.<anonymous>:1:-33",
      "    at ContextifyScript.Script.runInThisContext (vm.js:25:33)",
      "    at Object.runInThisContext (vm.js:97:38)",
      "    at run ([eval]:617:19)",
      "    at onRunRequest ([eval]:388:22)",
      "    at onMessage ([eval]:356:17)",
      "    at emitTwo (events.js:106:13)",
      "    at process.emit (events.js:191:7)",
      "    at process.nextTick (internal/child_process.js:753:12)",
      "    at _combinedTickCallback (internal/process/next_tick.js:73:7)"
     ]
    }
   ],
   "source": [
    "const startTime = new Egg().getTime();\n",
    "\n",
    "setTimeout(function () {\n",
    "  return(\"duration [ms] = \" + (minutesToCook / heat));\n",
    "}, 10);"
   ]
  }
 ],
 "metadata": {
  "anaconda-cloud": {},
  "kernelspec": {
   "display_name": "jp-Babel (Node.js)",
   "language": "babel",
   "name": "babel"
  },
  "language_info": {
   "file_extension": ".js",
   "mimetype": "application/javascript",
   "name": "javascript",
   "version": "6.10.3"
  }
 },
 "nbformat": 4,
 "nbformat_minor": 2
}
