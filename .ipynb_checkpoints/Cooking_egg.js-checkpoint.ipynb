{
 "cells": [
  {
   "cell_type": "code",
   "execution_count": 1,
   "metadata": {
    "collapsed": false
   },
   "outputs": [
    {
     "data": {
      "text/plain": [
       "[Function: Egg]"
      ]
     },
     "execution_count": 1,
     "metadata": {},
     "output_type": "execute_result"
    }
   ],
   "source": [
    "class Egg {\n",
    "    constructor() {\n",
    "        this.isCookig = false;\n",
    "        this.level = 0;\n",
    "        this.egg = new Egg();\n",
    "    }\n",
    "    \n",
    "    start() {\n",
    "        this.isCooking = true;\n",
    "        this.egg.start();\n",
    "    }\n",
    "    \n",
    "    stop() {\n",
    "        this.isCooking = false;\n",
    "        this.Egg.stop();\n",
    "        this.level = this.stove.calculateLevel();\n",
    "    }\n",
    "    \n",
    "    percentageCooked(percent) {\n",
    "        this.Egg.setEggCooked(percent);\n",
    "        this.level = this.level.calculateLevel();\n",
    "    }\n",
    "\n",
    "    minutesToCook() {\n",
    "        this.level = this.stove.calculateLevel();\n",
    "    }\n",
    "\n",
    "}"
   ]
  },
  {
   "cell_type": "code",
   "execution_count": 2,
   "metadata": {
    "collapsed": false
   },
   "outputs": [
    {
     "data": {
      "text/plain": [
       "[Function: Stove]"
      ]
     },
     "execution_count": 2,
     "metadata": {},
     "output_type": "execute_result"
    }
   ],
   "source": [
    "class Stove {\n",
    "    constructor() {\n",
    "        this.percentageCooked = 0;\n",
    "        this.isCooking = false;\n",
    "    }\n",
    "    \n",
    "    start() {\n",
    "        this.isCooking = true;\n",
    "        this.percentageCooked = 0;\n",
    "    }\n",
    "    \n",
    "    stop() {\n",
    "        this.isCooking = false;\n",
    "        this.percentageCooked = 0;\n",
    "    }\n",
    "    \n",
    "    setEggCooked(percent) {\n",
    "        this.percentageCooked = percent;\n",
    "    }\n",
    "    \n",
    "    calculateTime() {\n",
    "        return this.percentageCooked * 2;\n",
    "    }\n",
    "    \n",
    "    toString() {\n",
    "        return `Egg is Cooking: ${this.isCooking}, Time is: ${this.gasPercentage})`;\n",
    "    }\n",
    "}"
   ]
  }
 ],
 "metadata": {
  "anaconda-cloud": {},
  "kernelspec": {
   "display_name": "jp-Babel (Node.js)",
   "language": "babel",
   "name": "babel"
  },
  "language_info": {
   "file_extension": ".js",
   "mimetype": "application/javascript",
   "name": "javascript",
   "version": "6.10.3"
  }
 },
 "nbformat": 4,
 "nbformat_minor": 2
}
