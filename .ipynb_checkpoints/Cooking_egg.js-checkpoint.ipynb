{
 "cells": [
  {
   "cell_type": "code",
   "execution_count": null,
   "metadata": {
    "collapsed": true
   },
   "outputs": [],
   "source": [
    "class Stove {\n",
    "    constructor (){\n",
    "        this.head = 1;\n",
    "        this.minutesToCook = 0;\n",
    "    }\n",
    "}"
   ]
  },
  {
   "cell_type": "code",
   "execution_count": null,
   "metadata": {
    "collapsed": true
   },
   "outputs": [],
   "source": [
    "class Egg {\n",
    "    constructor (){\n",
    "        this.percentageCooked = 0;\n",
    "    }\n",
    "}"
   ]
  },
  {
   "cell_type": "code",
   "execution_count": 5,
   "metadata": {
    "collapsed": false
   },
   "outputs": [
    {
     "data": {
      "text/plain": [
       "Timeout {\n",
       "  _called: false,\n",
       "  _idleTimeout: 1500,\n",
       "  _idlePrev: \n",
       "   TimersList {\n",
       "     _idleNext: [Circular],\n",
       "     _idlePrev: [Circular],\n",
       "     _timer: Timer { '0': [Function: listOnTimeout], _list: [Circular] },\n",
       "     _unrefed: false,\n",
       "     msecs: 1500,\n",
       "     nextTick: false },\n",
       "  _idleNext: \n",
       "   TimersList {\n",
       "     _idleNext: [Circular],\n",
       "     _idlePrev: [Circular],\n",
       "     _timer: Timer { '0': [Function: listOnTimeout], _list: [Circular] },\n",
       "     _unrefed: false,\n",
       "     msecs: 1500,\n",
       "     nextTick: false },\n",
       "  _idleStart: 2259,\n",
       "  _onTimeout: [Function],\n",
       "  _timerArgs: undefined,\n",
       "  _repeat: null }"
      ]
     },
     "execution_count": 5,
     "metadata": {},
     "output_type": "execute_result"
    }
   ],
   "source": [
    "const startTime = new Egg().getTime();\n",
    "\n",
    "setTimeout(function () {\n",
    "  const endTime = new Date().getTime();\n",
    "  console.log(\"duration [ms] = \" + (endTime - startTime));\n",
    "}, 10);"
   ]
  }
 ],
 "metadata": {
  "anaconda-cloud": {},
  "kernelspec": {
   "display_name": "jp-Babel (Node.js)",
   "language": "babel",
   "name": "babel"
  },
  "language_info": {
   "file_extension": ".js",
   "mimetype": "application/javascript",
   "name": "javascript",
   "version": "6.10.3"
  }
 },
 "nbformat": 4,
 "nbformat_minor": 2
}
