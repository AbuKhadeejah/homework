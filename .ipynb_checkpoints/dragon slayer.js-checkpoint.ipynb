{
 "cells": [
  {
   "cell_type": "code",
   "execution_count": 1,
   "metadata": {
    "collapsed": false
   },
   "outputs": [
    {
     "name": "stdout",
     "output_type": "stream",
     "text": [
      "You hit the dragon.\n"
     ]
    },
    {
     "data": {
      "text/plain": [
       "false"
      ]
     },
     "execution_count": 1,
     "metadata": {},
     "output_type": "execute_result"
    }
   ],
   "source": [
    "var slaying = true;\n",
    "\n",
    "var youHit = Math.floor(Math.random() * 2);\n",
    "var damageThisRound = Math.floor(Math.random()*5 + 1);\n",
    "var totalDamage = 0;\n",
    "\n",
    "while(slaying){\n",
    "    if(youHit){\n",
    "        console.log(\"You hit the dragon.\");\n",
    "        totalDamage += damageThisRound;\n",
    "        \n",
    "    if(totalDamage >= 4){\n",
    "        console.log(\"player slew the dragon.\");\n",
    "        slaying = false;\n",
    "        }\n",
    "    else {\n",
    "        youHit = Math.floor(Math.random() * 2);\n",
    "        }\n",
    "    \n",
    "        }\n",
    "        \n",
    "    else{\n",
    "        console.log(\"dragon defeated you.\");\n",
    "        }\n",
    "    slaying = false;\n",
    "    }"
   ]
  }
 ],
 "metadata": {
  "kernelspec": {
   "display_name": "jp-Babel (Node.js)",
   "language": "babel",
   "name": "babel"
  },
  "language_info": {
   "file_extension": ".js",
   "mimetype": "application/javascript",
   "name": "javascript",
   "version": "6.10.3"
  }
 },
 "nbformat": 4,
 "nbformat_minor": 2
}
