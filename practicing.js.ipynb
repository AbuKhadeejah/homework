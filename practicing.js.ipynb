{
 "cells": [
  {
   "cell_type": "markdown",
   "metadata": {},
   "source": [
    "# for loops "
   ]
  },
  {
   "cell_type": "code",
   "execution_count": null,
   "metadata": {
    "collapsed": true
   },
   "outputs": [],
   "source": [
    "for(var i = 1; i < 30;i++){\n",
    "    console.log();\n",
    "}"
   ]
  },
  {
   "cell_type": "markdown",
   "metadata": {},
   "source": [
    "# arrays"
   ]
  },
  {
   "cell_type": "code",
   "execution_count": null,
   "metadata": {
    "collapsed": true
   },
   "outputs": [],
   "source": [
    "var names = ['khadeejah','abdullah','suriyanti','kerstin','jacek'];\n",
    "\n",
    "for(var i = 0; i < names.length;i++){\n",
    "    console.log(\"I know someone called \" + names[i]);\n",
    "    }"
   ]
  },
  {
   "cell_type": "code",
   "execution_count": 8,
   "metadata": {
    "collapsed": false
   },
   "outputs": [
    {
     "name": "stdout",
     "output_type": "stream",
     "text": [
      "Your name wasn't found at All!\n"
     ]
    }
   ],
   "source": [
    "/*jshint multistr:true */\n",
    "var text = \"Hey, it's me Ibrahim. how are you \\\n",
    "doing? Yes, My name is Ibrahim.\"; \n",
    "\n",
    "var myName = \"Ibrahim\";\n",
    "var hits = [];\n",
    "\n",
    "for (var i = 0; i < text.length;i++) {\n",
    "    if (text[i] === \"I\") {\n",
    "        for(var j = i; j < (myName.length + i); j++){\n",
    "            hits.push(text[j]);    \n",
    "            }\n",
    "        }\n",
    "    }\n",
    "    \n",
    "if (hits.length === 0){\n",
    "    console.log(\"Your name wasn't found!\");\n",
    "    }\n",
    "else if (hits.length !== hits.indexOf(hits[\"I\",\"b\",\"r\",\"a\",\"h\",\"i\",\"m\"])){\n",
    "    console.log(\"Your name wasn't found at All!\");\n",
    "    }\n",
    "else {\n",
    "    console.log(hits);\n",
    "    }"
   ]
  },
  {
   "cell_type": "code",
   "execution_count": null,
   "metadata": {
    "collapsed": true
   },
   "outputs": [],
   "source": []
  }
 ],
 "metadata": {
  "kernelspec": {
   "display_name": "jp-Babel (Node.js)",
   "language": "babel",
   "name": "babel"
  },
  "language_info": {
   "file_extension": ".js",
   "mimetype": "application/javascript",
   "name": "javascript",
   "version": "6.10.3"
  }
 },
 "nbformat": 4,
 "nbformat_minor": 2
}
