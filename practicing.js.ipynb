{
 "cells": [
  {
   "cell_type": "markdown",
   "metadata": {},
   "source": [
    "# for loops "
   ]
  },
  {
   "cell_type": "code",
   "execution_count": 12,
   "metadata": {
    "collapsed": false
   },
   "outputs": [
    {
     "name": "stdout",
     "output_type": "stream",
     "text": [
      "\n",
      "\n",
      "\n",
      "\n",
      "\n",
      "\n",
      "\n",
      "\n",
      "\n",
      "\n",
      "\n",
      "\n",
      "\n",
      "\n",
      "\n",
      "\n",
      "\n",
      "\n",
      "\n",
      "\n",
      "\n",
      "\n",
      "\n",
      "\n",
      "\n",
      "\n",
      "\n",
      "\n",
      "\n"
     ]
    }
   ],
   "source": [
    "for(var i = 1; i < 30;i++){\n",
    "    console.log();\n",
    "}"
   ]
  },
  {
   "cell_type": "markdown",
   "metadata": {},
   "source": [
    "# arrays"
   ]
  },
  {
   "cell_type": "code",
   "execution_count": 13,
   "metadata": {
    "collapsed": false
   },
   "outputs": [
    {
     "name": "stdout",
     "output_type": "stream",
     "text": [
      "I know someone called khadeejah\n",
      "I know someone called abdullah\n",
      "I know someone called suriyanti\n",
      "I know someone called kerstin\n",
      "I know someone called jacek\n"
     ]
    }
   ],
   "source": [
    "var names = ['khadeejah','abdullah','suriyanti','kerstin','jacek'];\n",
    "\n",
    "for(var i = 0; i < names.length;i++){\n",
    "    console.log(\"I know someone called \" + names[i]);\n",
    "    }"
   ]
  },
  {
   "cell_type": "code",
   "execution_count": 14,
   "metadata": {
    "collapsed": false
   },
   "outputs": [
    {
     "name": "stdout",
     "output_type": "stream",
     "text": [
      "Your name wasn't found at All!\n"
     ]
    }
   ],
   "source": [
    "/*jshint multistr:true */\n",
    "var text = \"Hey, it's me Ibrahim. how are you \\\n",
    "doing? Yes, My name is Ibrahim.\"; \n",
    "\n",
    "var myName = \"Ibrahim\";\n",
    "var hits = [];\n",
    "\n",
    "for (var i = 0; i < text.length;i++) {\n",
    "    if (text[i] === \"I\") {\n",
    "        for(var j = i; j < (myName.length + i); j++){\n",
    "            hits.push(text[j]);    \n",
    "            }\n",
    "        }\n",
    "    }\n",
    "    \n",
    "if (hits.length === 0){\n",
    "    console.log(\"Your name wasn't found!\");\n",
    "    }\n",
    "else if (hits.length !== hits.indexOf(hits[\"I\",\"b\",\"r\",\"a\",\"h\",\"i\",\"m\"])){\n",
    "    console.log(\"Your name wasn't found at All!\");\n",
    "    }\n",
    "else {\n",
    "    console.log(hits);\n",
    "    }"
   ]
  },
  {
   "cell_type": "code",
   "execution_count": 15,
   "metadata": {
    "collapsed": false
   },
   "outputs": [
    {
     "name": "stdout",
     "output_type": "stream",
     "text": [
      "I'm looping!\n",
      "I'm looping!\n",
      "I'm looping!\n"
     ]
    }
   ],
   "source": [
    "var count = 0;\n",
    "\n",
    "var loop = function(){\n",
    "\twhile(count < 3){\n",
    "\tcount++;//Your code goes here!\n",
    "\tconsole.log(\"I'm looping!\");\n",
    "\t}\n",
    "};\n",
    "\n",
    "loop();"
   ]
  },
  {
   "cell_type": "code",
   "execution_count": 16,
   "metadata": {
    "collapsed": false
   },
   "outputs": [
    {
     "name": "stdout",
     "output_type": "stream",
     "text": [
      "give me more!\n",
      "give me more!\n",
      "give me more!\n",
      "give me more!\n",
      "give me more!\n",
      "can i have some?\n"
     ]
    },
    {
     "data": {
      "text/plain": [
       "false"
      ]
     },
     "execution_count": 16,
     "metadata": {},
     "output_type": "execute_result"
    }
   ],
   "source": [
    "var cookies = 0;\n",
    "\n",
    "for (var cookies = 1; cookies < 15; cookies+=3 ){\n",
    "    console.log(\"give me more!\");\n",
    "    }\n",
    "    \n",
    "  \n",
    "while(cookies){\n",
    "    console.log(\"can i have some?\");\n",
    "    cookies = false;\n",
    "    }"
   ]
  },
  {
   "cell_type": "code",
   "execution_count": 17,
   "metadata": {
    "collapsed": false
   },
   "outputs": [
    {
     "name": "stdout",
     "output_type": "stream",
     "text": [
      "trying\n"
     ]
    }
   ],
   "source": [
    "var getToDaChoppa = function(){\n",
    "  // Write your do/while loop here!\n",
    "  do {\n",
    "    console.log(\"trying\");\n",
    "    // The thing to do at least once!\n",
    "    } \n",
    "    while(getToDaChoppa === false);\n",
    "};\n",
    "\n",
    "getToDaChoppa();"
   ]
  },
  {
   "cell_type": "code",
   "execution_count": 18,
   "metadata": {
    "collapsed": false
   },
   "outputs": [
    {
     "name": "stdout",
     "output_type": "stream",
     "text": [
      "nice!\n",
      "nice!\n",
      "nice!\n",
      "nice!\n",
      "nice!\n",
      "nice!\n",
      "nice!\n",
      "nice!\n",
      "nice!\n",
      "nice!\n",
      "nice!\n",
      "nice!\n",
      "nice!\n",
      "nice!\n",
      "2\n",
      "3\n",
      "4\n",
      "5\n",
      "6\n",
      "7\n",
      "8\n",
      "9\n",
      "10\n",
      "11\n",
      "12\n",
      "13\n",
      "14\n",
      "15\n",
      "hi, it me.\n"
     ]
    }
   ],
   "source": [
    "// Write your code below!\n",
    "for(var i = 1; i < 15; i+=1){\n",
    "    console.log(\"nice!\");\n",
    "    }\n",
    "\n",
    "var x = 1;\n",
    "while(x < 15){\n",
    "    console.log(x+=1);\n",
    "    }\n",
    "    \n",
    "var b = 15;    \n",
    "do {\n",
    "    console.log(\"hi, it me.\");\n",
    "    }while(b<15);"
   ]
  },
  {
   "cell_type": "code",
   "execution_count": 19,
   "metadata": {
    "collapsed": true
   },
   "outputs": [],
   "source": [
    "var isEven = function(number) {\n",
    "  if(number % 2 === 0){\n",
    "      return true;\n",
    "      }\n",
    "      \n",
    "  else{\n",
    "      return false;\n",
    "      }\n",
    "};"
   ]
  },
  {
   "cell_type": "code",
   "execution_count": 20,
   "metadata": {
    "collapsed": false
   },
   "outputs": [
    {
     "data": {
      "text/plain": [
       "'false'"
      ]
     },
     "execution_count": 20,
     "metadata": {},
     "output_type": "execute_result"
    }
   ],
   "source": [
    "var isEven = function(number) {\n",
    "  // Your code goes here!\n",
    "  if(number % 2 === 0){\n",
    "      return \"true\";\n",
    "      }\n",
    "      \n",
    "  else if (isNaN(number) === true){\n",
    "      return \"true\";\n",
    "      }\n",
    "      \n",
    "  else{\n",
    "      return \"false\";\n",
    "      }\n",
    "};\n",
    "\n",
    "isEven(3);"
   ]
  },
  {
   "cell_type": "code",
   "execution_count": 21,
   "metadata": {
    "collapsed": false
   },
   "outputs": [
    {
     "ename": "ReferenceError",
     "evalue": "prompt is not defined",
     "output_type": "error",
     "traceback": [
      "ReferenceError: prompt is not defined",
      "    at evalmachine.<anonymous>:1:-49",
      "    at ContextifyScript.Script.runInThisContext (vm.js:25:33)",
      "    at Object.runInThisContext (vm.js:97:38)",
      "    at run ([eval]:617:19)",
      "    at onRunRequest ([eval]:388:22)",
      "    at onMessage ([eval]:356:17)",
      "    at emitTwo (events.js:106:13)",
      "    at process.emit (events.js:191:7)",
      "    at process.nextTick (internal/child_process.js:753:12)",
      "    at _combinedTickCallback (internal/process/next_tick.js:73:7)"
     ]
    }
   ],
   "source": [
    "var lunch = prompt(\"What do you want for lunch?\",\"Type your lunch choice here\");\n",
    "\n",
    "switch(lunch){\n",
    "  case 'sandwich':\n",
    "    console.log(\"Sure thing! One sandwich, coming up.\");\n",
    "    break;\n",
    "  case 'soup':\n",
    "    console.log(\"Got it! Tomato's my favorite.\");\n",
    "    break;\n",
    "  case 'salad':\n",
    "    console.log(\"Sounds good! How about a caesar salad?\");\n",
    "    break;\n",
    "  case 'pie':\n",
    "    console.log(\"Pie's not a meal!\");\n",
    "    break;\n",
    "  default:\n",
    "    console.log(\"Huh! I'm not sure what \" + lunch + \" is. How does a sandwich sound?\");\n",
    "}"
   ]
  },
  {
   "cell_type": "code",
   "execution_count": 22,
   "metadata": {
    "collapsed": false
   },
   "outputs": [
    {
     "name": "stdout",
     "output_type": "stream",
     "text": [
      "Awesome! Let's keep learning!\n"
     ]
    }
   ],
   "source": [
    "var iLoveJavaScript = true;\n",
    "var iLoveLearning = true;\n",
    "\n",
    "if(iLoveJavaScript && iLoveLearning) {\n",
    "  // if iLoveJavaScript AND iLoveLearning:\n",
    "  console.log(\"Awesome! Let's keep learning!\");\n",
    "} else if(!(iLoveJavaScript || iLoveLearning)) {\n",
    "  // if NOT iLoveJavaScript OR iLoveLearning:\n",
    "  console.log(\"Let's see if we can change your mind.\");\n",
    "} else {\n",
    "  console.log(\"You only like one but not the other? We'll work on it.\");\n",
    "}"
   ]
  },
  {
   "cell_type": "code",
   "execution_count": 23,
   "metadata": {
    "collapsed": true
   },
   "outputs": [],
   "source": [
    "var hungry = true;\n",
    "var foodHere = true;\n",
    "\n",
    "var eat = function() {\n",
    "  // Add your if/else statement here!\n",
    "  if(hungry === true && foodHere === true){\n",
    "      return true;\n",
    "      }\n",
    "      \n",
    "  else {\n",
    "      return false;\n",
    "      }\n",
    "};"
   ]
  },
  {
   "cell_type": "code",
   "execution_count": 24,
   "metadata": {
    "collapsed": true
   },
   "outputs": [],
   "source": [
    "var tired = true;\n",
    "var bored = false;\n",
    "\n",
    "var nap = function() {\n",
    "  // Add your if/else statement here!\n",
    "  if(tired || bored){\n",
    "      return true;\n",
    "      }\n",
    "      \n",
    "  else {\n",
    "      return false;\n",
    "      }      \n",
    "};"
   ]
  },
  {
   "cell_type": "code",
   "execution_count": 25,
   "metadata": {
    "collapsed": true
   },
   "outputs": [],
   "source": [
    "var programming = false;\n",
    "\n",
    "var happy = function() {\n",
    "  // Add your if/else statement here!\n",
    "  if(programming !== true){\n",
    "      return true;\n",
    "      }\n",
    "      \n",
    "  else {\n",
    "      return false;\n",
    "      }      \n",
    "};"
   ]
  },
  {
   "cell_type": "code",
   "execution_count": null,
   "metadata": {
    "collapsed": true
   },
   "outputs": [],
   "source": [
    "var troll = prompt(\"You're walking through the forest, minding your own business, and you run into a troll! Do you FIGHT him, PAY him, or RUN?\").toUpperCase();\n",
    "\n",
    "switch(troll) {\n",
    "  case 'FIGHT':\n",
    "    var strong = prompt(\"How courageous! Are you strong (YES or NO)?\").toUpperCase();\n",
    "    var smart = prompt(\"Are you smart?\").toUpperCase();\n",
    "    if(strong === 'YES' || smart === 'YES') {\n",
    "      console.log(\"You only need one of the two! You beat the troll--nice work!\");\n",
    "    } else {\n",
    "      console.log(\"You're not strong OR smart? Well, if you were smarter, you probably wouldn't have tried to fight a troll. You lose!\");\n",
    "    }\n",
    "    break;\n",
    "  case 'PAY':\n",
    "    var money = prompt(\"All right, we'll pay the troll. Do you have any money (YES or NO)?\").toUpperCase();\n",
    "    var dollars = prompt(\"Is your money in Troll Dollars?\").toUpperCase();\n",
    "    if(money === 'YES' && dollars === 'YES') {\n",
    "      console.log(\"Great! You pay the troll and continue on your merry way.\");\n",
    "    } else {\n",
    "      console.log(\"Dang! This troll only takes Troll Dollars. You get whomped!\");\n",
    "    }\n",
    "    break;\n",
    "  case 'RUN':\n",
    "    var fast = prompt(\"Let's book it! Are you fast (YES or NO)?\").toUpperCase();\n",
    "    var headStart = prompt(\"Did you get a head start?\").toUpperCase();\n",
    "    if(fast === 'YES' || headStart === 'YES') {\n",
    "      console.log(\"You got away--barely! You live to stroll through the forest another day.\");\n",
    "    } else {\n",
    "      console.log(\"You're not fast and you didn't get a head start? You never had a chance! The troll eats you.\");\n",
    "    }\n",
    "    break;\n",
    "  default:\n",
    "    console.log(\"I didn't understand your choice. Hit Run and try again, this time picking FIGHT, PAY, or RUN!\");\n",
    "}"
   ]
  }
 ],
 "metadata": {
  "kernelspec": {
   "display_name": "jp-Babel (Node.js)",
   "language": "babel",
   "name": "babel"
  },
  "language_info": {
   "file_extension": ".js",
   "mimetype": "application/javascript",
   "name": "javascript",
   "version": "6.10.3"
  }
 },
 "nbformat": 4,
 "nbformat_minor": 2
}
